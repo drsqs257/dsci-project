{
 "cells": [
  {
   "cell_type": "markdown",
   "id": "08a258b8-ed5e-4138-b73c-54ef47c0d1c8",
   "metadata": {},
   "source": [
    "DSCI PROJECT\n",
    "\n",
    "DSCI100 is a course that introduces students to organization of data through code. Throughout the semester, numerous tools in the R programming language are taught, some of which allow for data to be visualized and others that help data get sorted into much more interpretable forms. To demonstrate these tools and skills gained. Generous peers from the earlier semesters compiled a data frame which we can now use to develop some questions we may have about video games and their audience. The data frame that will be used includes information about the players' experience, subscription to a games related newsletter, hashed email, played hours, name, gender, and age. A research question that may arise from this set of data may be \"Can age and hours played predict whether or not that person is subscribed to a game related newsletter?\"\n"
   ]
  },
  {
   "cell_type": "code",
   "execution_count": null,
   "id": "e5cf4d2b-0f99-4a15-a02d-056ab59d2983",
   "metadata": {},
   "outputs": [],
   "source": [
    "library(tidyverse)\n",
    "library(repr)\n",
    "library(tidymodels)\n",
    "\n",
    "data <- read_csv(\"https://raw.githubusercontent.com/drsqs257/dsci-project/refs/heads/main/players.csv\") |>\n",
    "    select(subscribe, played_hours, Age) |>\n",
    "    mutate(subscribe = as_factor(subscribe))\n",
    "data"
   ]
  },
  {
   "cell_type": "code",
   "execution_count": null,
   "id": "cc8479ca-f0cc-4709-b364-79133f5b3657",
   "metadata": {},
   "outputs": [],
   "source": [
    "exp_plot <- data |>\n",
    "    ggplot(aes(x = Age, y = played_hours, color = subscribe)) +\n",
    "    geom_point()+\n",
    "    labs(x = \"age\" , y = \"hours\", color = \"subscribe\") +\n",
    "    scale_y_log10()\n",
    "exp_plot"
   ]
  },
  {
   "cell_type": "code",
   "execution_count": null,
   "id": "2dece419-28bb-424e-ad86-eed7f77b4b2e",
   "metadata": {},
   "outputs": [],
   "source": []
  },
  {
   "cell_type": "code",
   "execution_count": null,
   "id": "e63eb4b9-71ae-4799-84b1-83ed42741cf3",
   "metadata": {},
   "outputs": [],
   "source": []
  },
  {
   "cell_type": "code",
   "execution_count": null,
   "id": "9a233d3a-3bbb-41fa-a772-fe28c894a7c2",
   "metadata": {},
   "outputs": [],
   "source": []
  }
 ],
 "metadata": {
  "kernelspec": {
   "display_name": "R",
   "language": "R",
   "name": "ir"
  },
  "language_info": {
   "codemirror_mode": "r",
   "file_extension": ".r",
   "mimetype": "text/x-r-source",
   "name": "R",
   "pygments_lexer": "r",
   "version": "4.3.3"
  }
 },
 "nbformat": 4,
 "nbformat_minor": 5
}
