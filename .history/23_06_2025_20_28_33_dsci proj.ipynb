{
 "cells": [
  {
   "cell_type": "markdown",
   "id": "08a258b8-ed5e-4138-b73c-54ef47c0d1c8",
   "metadata": {},
   "source": [
    "TITLE:\n",
    "DSCI PROJECT\n",
    "\n",
    "INTRO:\n",
    "\n",
    "-> background + question \n",
    "DSCI100 is a course that introduces students to organization of data through code. Throughout the semester, numerous tools in the R programming language are taught, some of which allow for data to be visualized and others that help data get sorted into much more interpretable forms. To demonstrate these tools and skills gained. Generous peers from the earlier semesters compiled a data frame which we can now use to develop some questions we may have about video games and their audience. The data frame that will be used includes information about the players' experience, subscription to a games related newsletter, hashed email, played hours, name, gender, and age. A research question that may arise from this set of data may be \"Can age and hours played predict whether or not that person is subscribed to a game related newsletter?\"\n",
    "\n",
    "-> data description\n",
    "In order to utilize the data, we can first select the columns of data that are actually relevant to the question which in this case, would be  \"Age\", \"played_hours\", and \"subscribe\". Following the selection of our data, we should change our non numerical data in to factors (fct). In the original data set, the column \"subcribe\" is in identified as a string of characters (chr), to change this, the column can be mutated using as_factor() to convert the values into factors (fct). Making this change allows the program to properly identify \"subscribe\" as a category with a fixed set of groups instead of a set of continuous values. "
   ]
  },
  {
   "cell_type": "code",
   "execution_count": null,
   "id": "e5cf4d2b-0f99-4a15-a02d-056ab59d2983",
   "metadata": {},
   "outputs": [],
   "source": [
    "library(tidyverse)\n",
    "library(repr)\n",
    "library(tidymodels)\n",
    "\n",
    "data <- read_csv(\"https://raw.githubusercontent.com/drsqs257/dsci-project/refs/heads/main/players.csv\") |>\n",
    "    select(subscribe, played_hours, Age) |>\n",
    "    mutate(subscribe = as_factor(subscribe))\n",
    "head(data)"
   ]
  },
  {
   "cell_type": "markdown",
   "id": "bbdd968b-86cf-408a-86ec-63b1579cfd89",
   "metadata": {},
   "source": [
    "Within the data to be used certain information about the data frame can be collected to help familiarize ourselves with the data. Let's take the number of observations/students into account. "
   ]
  },
  {
   "cell_type": "code",
   "execution_count": null,
   "id": "1add6b8e-8e4f-4108-ad92-39bb343d2fc2",
   "metadata": {},
   "outputs": [],
   "source": [
    "total_number_of_students_in_data <- nrow(data)\n",
    "total_number_of_students_in_data "
   ]
  },
  {
   "cell_type": "markdown",
   "id": "b3386319-c074-402e-9135-f60aff7177be",
   "metadata": {},
   "source": [
    "Other pieces of information we can extract include things like the mean hours played across all the participants "
   ]
  },
  {
   "cell_type": "code",
   "execution_count": null,
   "id": "9a97a90e-3c48-4d30-8444-a362eee667e9",
   "metadata": {},
   "outputs": [],
   "source": [
    "data |>\n",
    "summarise(mean_hours = mean(played_hours))"
   ]
  },
  {
   "cell_type": "markdown",
   "id": "36f344b6-73b2-4737-98c0-80b438914979",
   "metadata": {},
   "source": [
    "or the mean age."
   ]
  },
  {
   "cell_type": "code",
   "execution_count": null,
   "id": "ed1f7107-932f-445a-831f-164eb5ac809f",
   "metadata": {},
   "outputs": [],
   "source": [
    "data |>\n",
    "filter(Age != 'NA') |>\n",
    "summarise(mean_age = mean(Age))"
   ]
  },
  {
   "cell_type": "markdown",
   "id": "f04d51c8-96a5-406f-9101-fbd1ea67e11a",
   "metadata": {},
   "source": []
  },
  {
   "cell_type": "code",
   "execution_count": null,
   "id": "cc8479ca-f0cc-4709-b364-79133f5b3657",
   "metadata": {},
   "outputs": [],
   "source": [
    "exp_plot <- data |>\n",
    "    ggplot(aes(x = Age, y = played_hours, color = subscribe)) +\n",
    "    geom_point()+\n",
    "    labs(x = \"age\" , y = \"hours\", color = \"subscribe\") +\n",
    "    scale_y_log10()\n",
    "exp_plot"
   ]
  },
  {
   "cell_type": "code",
   "execution_count": null,
   "id": "2dece419-28bb-424e-ad86-eed7f77b4b2e",
   "metadata": {},
   "outputs": [],
   "source": []
  },
  {
   "cell_type": "code",
   "execution_count": null,
   "id": "e63eb4b9-71ae-4799-84b1-83ed42741cf3",
   "metadata": {},
   "outputs": [],
   "source": []
  },
  {
   "cell_type": "code",
   "execution_count": null,
   "id": "9a233d3a-3bbb-41fa-a772-fe28c894a7c2",
   "metadata": {},
   "outputs": [],
   "source": []
  }
 ],
 "metadata": {
  "kernelspec": {
   "display_name": "R",
   "language": "R",
   "name": "ir"
  },
  "language_info": {
   "codemirror_mode": "r",
   "file_extension": ".r",
   "mimetype": "text/x-r-source",
   "name": "R",
   "pygments_lexer": "r",
   "version": "4.3.3"
  }
 },
 "nbformat": 4,
 "nbformat_minor": 5
}
